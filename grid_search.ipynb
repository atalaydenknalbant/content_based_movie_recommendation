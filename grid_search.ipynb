{
 "cells": [
  {
   "cell_type": "markdown",
   "metadata": {},
   "source": [
    "# Grid Search on Matrix Factorization"
   ]
  },
  {
   "cell_type": "markdown",
   "metadata": {},
   "source": [
    "## Import Libraries"
   ]
  },
  {
   "cell_type": "code",
   "execution_count": 1,
   "metadata": {},
   "outputs": [],
   "source": [
    "import torch\n",
    "import torch.nn as nn\n",
    "import torch.optim as optim\n",
    "from torch.utils.data import Dataset, DataLoader\n",
    "from sklearn.model_selection import train_test_split\n",
    "import pandas as pd\n",
    "import numpy as np\n",
    "from tqdm import tqdm\n",
    "from sklearn.metrics import mean_squared_error, mean_absolute_error\n",
    "import itertools\n",
    "import seaborn as sns\n",
    "import matplotlib.pyplot as plt"
   ]
  },
  {
   "cell_type": "markdown",
   "metadata": {},
   "source": [
    "## Load MovieLens Small dataset"
   ]
  },
  {
   "cell_type": "code",
   "execution_count": 2,
   "metadata": {},
   "outputs": [
    {
     "data": {
      "text/html": [
       "<div>\n",
       "<style scoped>\n",
       "    .dataframe tbody tr th:only-of-type {\n",
       "        vertical-align: middle;\n",
       "    }\n",
       "\n",
       "    .dataframe tbody tr th {\n",
       "        vertical-align: top;\n",
       "    }\n",
       "\n",
       "    .dataframe thead th {\n",
       "        text-align: right;\n",
       "    }\n",
       "</style>\n",
       "<table border=\"1\" class=\"dataframe\">\n",
       "  <thead>\n",
       "    <tr style=\"text-align: right;\">\n",
       "      <th></th>\n",
       "      <th>userId</th>\n",
       "      <th>movieId</th>\n",
       "      <th>rating</th>\n",
       "      <th>timestamp</th>\n",
       "    </tr>\n",
       "  </thead>\n",
       "  <tbody>\n",
       "    <tr>\n",
       "      <th>0</th>\n",
       "      <td>1</td>\n",
       "      <td>1</td>\n",
       "      <td>4.0</td>\n",
       "      <td>964982703</td>\n",
       "    </tr>\n",
       "    <tr>\n",
       "      <th>1</th>\n",
       "      <td>1</td>\n",
       "      <td>3</td>\n",
       "      <td>4.0</td>\n",
       "      <td>964981247</td>\n",
       "    </tr>\n",
       "    <tr>\n",
       "      <th>2</th>\n",
       "      <td>1</td>\n",
       "      <td>6</td>\n",
       "      <td>4.0</td>\n",
       "      <td>964982224</td>\n",
       "    </tr>\n",
       "    <tr>\n",
       "      <th>3</th>\n",
       "      <td>1</td>\n",
       "      <td>47</td>\n",
       "      <td>5.0</td>\n",
       "      <td>964983815</td>\n",
       "    </tr>\n",
       "    <tr>\n",
       "      <th>4</th>\n",
       "      <td>1</td>\n",
       "      <td>50</td>\n",
       "      <td>5.0</td>\n",
       "      <td>964982931</td>\n",
       "    </tr>\n",
       "  </tbody>\n",
       "</table>\n",
       "</div>"
      ],
      "text/plain": [
       "   userId  movieId  rating  timestamp\n",
       "0       1        1     4.0  964982703\n",
       "1       1        3     4.0  964981247\n",
       "2       1        6     4.0  964982224\n",
       "3       1       47     5.0  964983815\n",
       "4       1       50     5.0  964982931"
      ]
     },
     "execution_count": 2,
     "metadata": {},
     "output_type": "execute_result"
    }
   ],
   "source": [
    "data = pd.read_csv(r\"C:\\Users\\yineh\\OneDrive\\Masaüstü\\ml-latest-small\\ratings.csv\", sep=\",\")\n",
    "\n",
    "data.head()"
   ]
  },
  {
   "cell_type": "markdown",
   "metadata": {},
   "source": [
    "## Check shape of data"
   ]
  },
  {
   "cell_type": "code",
   "execution_count": 3,
   "metadata": {},
   "outputs": [
    {
     "data": {
      "text/plain": [
       "(100836, 4)"
      ]
     },
     "execution_count": 3,
     "metadata": {},
     "output_type": "execute_result"
    }
   ],
   "source": [
    "data.shape"
   ]
  },
  {
   "cell_type": "markdown",
   "metadata": {},
   "source": [
    "## Map user and movie IDs to unique consecutive indices starting from 0"
   ]
  },
  {
   "cell_type": "code",
   "execution_count": 4,
   "metadata": {},
   "outputs": [],
   "source": [
    "user_ids = data['userId'].unique()\n",
    "movie_ids = data['movieId'].unique()\n",
    "\n",
    "user_mapping = {user_id: idx for idx, user_id in enumerate(user_ids)}\n",
    "movie_mapping = {movie_id: idx for idx, movie_id in enumerate(movie_ids)}\n",
    "\n",
    "data['userId'] = data['userId'].map(user_mapping)\n",
    "data['movieId'] = data['movieId'].map(movie_mapping)"
   ]
  },
  {
   "cell_type": "markdown",
   "metadata": {},
   "source": [
    "## Create the matrix factorization model"
   ]
  },
  {
   "cell_type": "code",
   "execution_count": 5,
   "metadata": {},
   "outputs": [],
   "source": [
    "class MatrixFactorization(nn.Module):\n",
    "    def __init__(self, num_users, num_movies, embedding_size=20):\n",
    "        super(MatrixFactorization, self).__init__()\n",
    "        self.user_embedding = nn.Embedding(num_users, embedding_size)\n",
    "        self.movie_embedding = nn.Embedding(num_movies, embedding_size)\n",
    "        self.linear = nn.Linear(2*embedding_size, 1)\n",
    "\n",
    "    def forward(self, X):\n",
    "        user_embedding = self.user_embedding(X[:,0])\n",
    "        movie_embedding = self.movie_embedding(X[:,1])\n",
    "        prediction = torch.sum(user_embedding * movie_embedding, dim=1)\n",
    "        return prediction"
   ]
  },
  {
   "cell_type": "markdown",
   "metadata": {},
   "source": [
    "## Custom Dataset to use Dataloaders"
   ]
  },
  {
   "cell_type": "code",
   "execution_count": 6,
   "metadata": {},
   "outputs": [],
   "source": [
    "class MovieLensDataset(Dataset):\n",
    "    def __init__(self, dataframe):\n",
    "        self.users = torch.tensor(dataframe['userId'].values, dtype=torch.long)\n",
    "        self.movies = torch.tensor(dataframe['movieId'].values, dtype=torch.long)\n",
    "        self.ratings = torch.tensor(dataframe['rating'].values, dtype=torch.float32)\n",
    "\n",
    "    def __len__(self):\n",
    "        return len(self.ratings)\n",
    "\n",
    "    def __getitem__(self, idx):\n",
    "        return (self.users[idx], self.movies[idx]), self.ratings[idx]"
   ]
  },
  {
   "cell_type": "markdown",
   "metadata": {},
   "source": [
    "## Define parameter for grid search"
   ]
  },
  {
   "cell_type": "code",
   "execution_count": 7,
   "metadata": {},
   "outputs": [],
   "source": [
    "embedding_sizes = [5, 10, 20, 50]\n",
    "learning_rates = [0.01, 0.03, 0.1, 0.001]\n",
    "regularizations = [0, 0.001, 0.01, 0.1]"
   ]
  },
  {
   "cell_type": "markdown",
   "metadata": {},
   "source": [
    "## Generate all combinations"
   ]
  },
  {
   "cell_type": "code",
   "execution_count": 8,
   "metadata": {},
   "outputs": [],
   "source": [
    "param_grid = list(itertools.product(embedding_sizes, learning_rates, regularizations))"
   ]
  },
  {
   "cell_type": "markdown",
   "metadata": {},
   "source": [
    "## Store Results"
   ]
  },
  {
   "cell_type": "code",
   "execution_count": 9,
   "metadata": {},
   "outputs": [],
   "source": [
    "results = []"
   ]
  },
  {
   "cell_type": "markdown",
   "metadata": {},
   "source": [
    "## Use gpu for calculations"
   ]
  },
  {
   "cell_type": "code",
   "execution_count": 10,
   "metadata": {},
   "outputs": [
    {
     "name": "stdout",
     "output_type": "stream",
     "text": [
      "Using device: cuda\n"
     ]
    }
   ],
   "source": [
    "device = torch.device('cuda' if torch.cuda.is_available() else 'cpu')\n",
    "print(f\"Using device: {device}\")"
   ]
  },
  {
   "cell_type": "markdown",
   "metadata": {},
   "source": [
    "## Split the data into training and test sets"
   ]
  },
  {
   "cell_type": "code",
   "execution_count": 11,
   "metadata": {},
   "outputs": [],
   "source": [
    "train_data, test_data = train_test_split(data, test_size=0.1, random_state=42)"
   ]
  },
  {
   "cell_type": "markdown",
   "metadata": {},
   "source": [
    "## Prepare datasets and data loaders"
   ]
  },
  {
   "cell_type": "code",
   "execution_count": 14,
   "metadata": {},
   "outputs": [],
   "source": [
    "batch_size = 8\n",
    "train_dataset = MovieLensDataset(train_data)\n",
    "test_dataset = MovieLensDataset(test_data)\n",
    "train_loader = DataLoader(train_dataset, batch_size=batch_size, shuffle=True)\n",
    "test_loader = DataLoader(test_dataset, batch_size=batch_size)"
   ]
  },
  {
   "cell_type": "markdown",
   "metadata": {},
   "source": [
    "## Loop over all combinations"
   ]
  },
  {
   "cell_type": "code",
   "execution_count": 15,
   "metadata": {},
   "outputs": [
    {
     "name": "stdout",
     "output_type": "stream",
     "text": [
      "Params: Embedding Size=5, LR=0.01, Reg=0\n",
      "Test MAE: 1.4049, Test RMSE: 1.9738\n",
      "Params: Embedding Size=5, LR=0.01, Reg=0.001\n",
      "Test MAE: 1.4842, Test RMSE: 1.8718\n",
      "Params: Embedding Size=5, LR=0.01, Reg=0.01\n",
      "Test MAE: 3.4891, Test RMSE: 3.6436\n",
      "Params: Embedding Size=5, LR=0.01, Reg=0.1\n",
      "Test MAE: 3.4926, Test RMSE: 3.6471\n",
      "Params: Embedding Size=5, LR=0.03, Reg=0\n",
      "Test MAE: 0.9395, Test RMSE: 1.3973\n",
      "Params: Embedding Size=5, LR=0.03, Reg=0.001\n",
      "Test MAE: 1.2241, Test RMSE: 1.5681\n",
      "Params: Embedding Size=5, LR=0.03, Reg=0.01\n",
      "Test MAE: 3.4737, Test RMSE: 3.6280\n",
      "Params: Embedding Size=5, LR=0.03, Reg=0.1\n",
      "Test MAE: 3.4926, Test RMSE: 3.6471\n",
      "Params: Embedding Size=5, LR=0.1, Reg=0\n",
      "Test MAE: 0.8386, Test RMSE: 1.2168\n",
      "Params: Embedding Size=5, LR=0.1, Reg=0.001\n",
      "Test MAE: 1.2350, Test RMSE: 1.5767\n",
      "Params: Embedding Size=5, LR=0.1, Reg=0.01\n",
      "Test MAE: 3.4394, Test RMSE: 3.5937\n",
      "Params: Embedding Size=5, LR=0.1, Reg=0.1\n",
      "Test MAE: 3.4926, Test RMSE: 3.6471\n",
      "Params: Embedding Size=5, LR=0.001, Reg=0\n",
      "Test MAE: 3.5250, Test RMSE: 3.8283\n",
      "Params: Embedding Size=5, LR=0.001, Reg=0.001\n",
      "Test MAE: 3.5006, Test RMSE: 3.7650\n",
      "Params: Embedding Size=5, LR=0.001, Reg=0.01\n",
      "Test MAE: 3.4914, Test RMSE: 3.6489\n",
      "Params: Embedding Size=5, LR=0.001, Reg=0.1\n",
      "Test MAE: 3.4926, Test RMSE: 3.6471\n",
      "Params: Embedding Size=10, LR=0.01, Reg=0\n",
      "Test MAE: 1.5041, Test RMSE: 2.0980\n",
      "Params: Embedding Size=10, LR=0.01, Reg=0.001\n",
      "Test MAE: 1.4267, Test RMSE: 1.8198\n",
      "Params: Embedding Size=10, LR=0.01, Reg=0.01\n",
      "Test MAE: 3.4805, Test RMSE: 3.6348\n",
      "Params: Embedding Size=10, LR=0.01, Reg=0.1\n",
      "Test MAE: 3.4926, Test RMSE: 3.6471\n",
      "Params: Embedding Size=10, LR=0.03, Reg=0\n",
      "Test MAE: 0.9939, Test RMSE: 1.4666\n",
      "Params: Embedding Size=10, LR=0.03, Reg=0.001\n",
      "Test MAE: 1.2204, Test RMSE: 1.5660\n",
      "Params: Embedding Size=10, LR=0.03, Reg=0.01\n",
      "Test MAE: 3.4595, Test RMSE: 3.6137\n",
      "Params: Embedding Size=10, LR=0.03, Reg=0.1\n",
      "Test MAE: 3.4926, Test RMSE: 3.6471\n",
      "Params: Embedding Size=10, LR=0.1, Reg=0\n",
      "Test MAE: 0.9031, Test RMSE: 1.3293\n",
      "Params: Embedding Size=10, LR=0.1, Reg=0.001\n",
      "Test MAE: 1.2302, Test RMSE: 1.5759\n",
      "Params: Embedding Size=10, LR=0.1, Reg=0.01\n",
      "Test MAE: 3.4383, Test RMSE: 3.5925\n",
      "Params: Embedding Size=10, LR=0.1, Reg=0.1\n",
      "Test MAE: 3.4926, Test RMSE: 3.6471\n",
      "Params: Embedding Size=10, LR=0.001, Reg=0\n",
      "Test MAE: 3.5691, Test RMSE: 3.9897\n",
      "Params: Embedding Size=10, LR=0.001, Reg=0.001\n",
      "Test MAE: 3.5615, Test RMSE: 3.9196\n",
      "Params: Embedding Size=10, LR=0.001, Reg=0.01\n",
      "Test MAE: 3.4921, Test RMSE: 3.6552\n",
      "Params: Embedding Size=10, LR=0.001, Reg=0.1\n",
      "Test MAE: 3.4926, Test RMSE: 3.6471\n",
      "Params: Embedding Size=20, LR=0.01, Reg=0\n",
      "Test MAE: 1.7167, Test RMSE: 2.3593\n",
      "Params: Embedding Size=20, LR=0.01, Reg=0.001\n",
      "Test MAE: 1.4633, Test RMSE: 1.8530\n",
      "Params: Embedding Size=20, LR=0.01, Reg=0.01\n",
      "Test MAE: 3.4743, Test RMSE: 3.6286\n",
      "Params: Embedding Size=20, LR=0.01, Reg=0.1\n",
      "Test MAE: 3.4926, Test RMSE: 3.6471\n",
      "Params: Embedding Size=20, LR=0.03, Reg=0\n",
      "Test MAE: 1.1233, Test RMSE: 1.6461\n",
      "Params: Embedding Size=20, LR=0.03, Reg=0.001\n",
      "Test MAE: 1.2205, Test RMSE: 1.5655\n",
      "Params: Embedding Size=20, LR=0.03, Reg=0.01\n",
      "Test MAE: 3.4540, Test RMSE: 3.6082\n",
      "Params: Embedding Size=20, LR=0.03, Reg=0.1\n",
      "Test MAE: 3.4926, Test RMSE: 3.6471\n",
      "Params: Embedding Size=20, LR=0.1, Reg=0\n",
      "Test MAE: 1.0098, Test RMSE: 1.4875\n",
      "Params: Embedding Size=20, LR=0.1, Reg=0.001\n",
      "Test MAE: 1.2347, Test RMSE: 1.5768\n",
      "Params: Embedding Size=20, LR=0.1, Reg=0.01\n",
      "Test MAE: 3.4382, Test RMSE: 3.5926\n",
      "Params: Embedding Size=20, LR=0.1, Reg=0.1\n",
      "Test MAE: 3.4926, Test RMSE: 3.6471\n",
      "Params: Embedding Size=20, LR=0.001, Reg=0\n",
      "Test MAE: 3.7211, Test RMSE: 4.3500\n",
      "Params: Embedding Size=20, LR=0.001, Reg=0.001\n",
      "Test MAE: 3.6684, Test RMSE: 4.1764\n",
      "Params: Embedding Size=20, LR=0.001, Reg=0.01\n",
      "Test MAE: 3.4865, Test RMSE: 3.6552\n",
      "Params: Embedding Size=20, LR=0.001, Reg=0.1\n",
      "Test MAE: 3.4926, Test RMSE: 3.6471\n",
      "Params: Embedding Size=50, LR=0.01, Reg=0\n",
      "Test MAE: 2.1425, Test RMSE: 3.0590\n",
      "Params: Embedding Size=50, LR=0.01, Reg=0.001\n",
      "Test MAE: 1.5014, Test RMSE: 1.9040\n",
      "Params: Embedding Size=50, LR=0.01, Reg=0.01\n",
      "Test MAE: 3.4541, Test RMSE: 3.6082\n",
      "Params: Embedding Size=50, LR=0.01, Reg=0.1\n",
      "Test MAE: 3.4926, Test RMSE: 3.6471\n",
      "Params: Embedding Size=50, LR=0.03, Reg=0\n",
      "Test MAE: 1.5893, Test RMSE: 2.4252\n",
      "Params: Embedding Size=50, LR=0.03, Reg=0.001\n",
      "Test MAE: 1.2229, Test RMSE: 1.5713\n",
      "Params: Embedding Size=50, LR=0.03, Reg=0.01\n",
      "Test MAE: 3.4335, Test RMSE: 3.5877\n",
      "Params: Embedding Size=50, LR=0.03, Reg=0.1\n",
      "Test MAE: 3.4926, Test RMSE: 3.6471\n",
      "Params: Embedding Size=50, LR=0.1, Reg=0\n",
      "Test MAE: 1.2007, Test RMSE: 1.6982\n",
      "Params: Embedding Size=50, LR=0.1, Reg=0.001\n",
      "Test MAE: 1.2256, Test RMSE: 1.5691\n",
      "Params: Embedding Size=50, LR=0.1, Reg=0.01\n",
      "Test MAE: 3.4366, Test RMSE: 3.5907\n",
      "Params: Embedding Size=50, LR=0.1, Reg=0.1\n",
      "Test MAE: 3.4926, Test RMSE: 3.6471\n",
      "Params: Embedding Size=50, LR=0.001, Reg=0\n",
      "Test MAE: 4.2779, Test RMSE: 5.2938\n",
      "Params: Embedding Size=50, LR=0.001, Reg=0.001\n",
      "Test MAE: 4.0338, Test RMSE: 4.8590\n",
      "Params: Embedding Size=50, LR=0.001, Reg=0.01\n",
      "Test MAE: 3.4878, Test RMSE: 3.6810\n",
      "Params: Embedding Size=50, LR=0.001, Reg=0.1\n",
      "Test MAE: 3.4926, Test RMSE: 3.6471\n"
     ]
    }
   ],
   "source": [
    "for embedding_size, lr, reg in param_grid:\n",
    "    num_users = len(user_ids)\n",
    "    num_movies = len(movie_ids)\n",
    "    model = MatrixFactorization(num_users, num_movies, embedding_size).to(device)\n",
    "    criterion = nn.MSELoss()\n",
    "    optimizer = optim.SGD(model.parameters(), lr=lr, weight_decay=reg)\n",
    "    num_epochs = 10\n",
    "    for epoch in range(num_epochs):\n",
    "        model.train()\n",
    "        total_loss = 0\n",
    "        for (users, movies), ratings in train_loader:\n",
    "            users = users.to(device)\n",
    "            movies = movies.to(device)\n",
    "            ratings = ratings.to(device)\n",
    "            \n",
    "            optimizer.zero_grad()\n",
    "            outputs = model(torch.stack((users, movies), dim=1))\n",
    "            loss = criterion(outputs, ratings)\n",
    "            loss.backward()\n",
    "            optimizer.step()\n",
    "            total_loss += loss.item()\n",
    "    model.eval()\n",
    "    with torch.no_grad():\n",
    "        all_preds = []\n",
    "        all_ratings = []\n",
    "        for (users, movies), ratings in test_loader:\n",
    "            users = users.to(device)\n",
    "            movies = movies.to(device)\n",
    "            ratings = ratings.to(device)\n",
    "            \n",
    "            outputs = model(torch.stack((users, movies), dim=1))\n",
    "            all_preds.append(outputs.cpu())\n",
    "            all_ratings.append(ratings.cpu())\n",
    "        \n",
    "        predictions = torch.cat(all_preds)\n",
    "        y_test = torch.cat(all_ratings)\n",
    "        test_mae = nn.L1Loss()(predictions, y_test).item()\n",
    "        test_rmse = torch.sqrt(nn.MSELoss()(predictions, y_test)).item()\n",
    "    results.append({\n",
    "        'Embedding Size': embedding_size,\n",
    "        'Learning Rate': lr,\n",
    "        'Regularization': reg,\n",
    "        'Test MAE': test_mae,\n",
    "        'Test RMSE': test_rmse\n",
    "    })\n",
    "    \n",
    "    print(f\"Params: Embedding Size={embedding_size}, LR={lr}, Reg={reg}\")\n",
    "    print(f\"Test MAE: {test_mae:.4f}, Test RMSE: {test_rmse:.4f}\")"
   ]
  },
  {
   "cell_type": "markdown",
   "metadata": {},
   "source": [
    "## Summarize Results"
   ]
  },
  {
   "cell_type": "code",
   "execution_count": 16,
   "metadata": {},
   "outputs": [
    {
     "name": "stdout",
     "output_type": "stream",
     "text": [
      "Top 10 configurations based on Test MAE:\n",
      "    Embedding Size  Learning Rate  Regularization  Test MAE  Test RMSE\n",
      "8                5           0.10           0.000  0.838641   1.216823\n",
      "24              10           0.10           0.000  0.903091   1.329257\n",
      "4                5           0.03           0.000  0.939487   1.397295\n",
      "20              10           0.03           0.000  0.993852   1.466649\n",
      "40              20           0.10           0.000  1.009844   1.487505\n",
      "36              20           0.03           0.000  1.123273   1.646108\n",
      "56              50           0.10           0.000  1.200698   1.698178\n",
      "21              10           0.03           0.001  1.220387   1.565979\n",
      "37              20           0.03           0.001  1.220521   1.565471\n",
      "53              50           0.03           0.001  1.222915   1.571309\n"
     ]
    }
   ],
   "source": [
    "results_df = pd.DataFrame(results)\n",
    "sorted_results = results_df.sort_values(by='Test MAE')\n",
    "print(\"Top 10 configurations based on Test MAE:\")\n",
    "print(sorted_results.head(10))\n"
   ]
  },
  {
   "cell_type": "markdown",
   "metadata": {},
   "source": [
    "## Visualizing the Results"
   ]
  },
  {
   "cell_type": "code",
   "execution_count": 18,
   "metadata": {},
   "outputs": [
    {
     "data": {
      "image/png": "[encoded data removed]",
      "text/plain": [
       "<Figure size 800x600 with 1 Axes>"
      ]
     },
     "metadata": {},
     "output_type": "display_data"
    },
    {
     "data": {
      "image/png": "[encoded data removed]",
      "text/plain": [
       "<Figure size 800x600 with 1 Axes>"
      ]
     },
     "metadata": {},
     "output_type": "display_data"
    },
    {
     "data": {
      "image/png": "[encoded data removed]",
      "text/plain": [
       "<Figure size 800x600 with 1 Axes>"
      ]
     },
     "metadata": {},
     "output_type": "display_data"
    }
   ],
   "source": [
    "plt.figure(figsize=(8, 6))\n",
    "sns.boxplot(x='Embedding Size', y='Test MAE', data=results_df)\n",
    "plt.title('Effect of Embedding Size on Test MAE')\n",
    "plt.show()\n",
    "plt.figure(figsize=(8, 6))\n",
    "sns.boxplot(x='Learning Rate', y='Test MAE', data=results_df)\n",
    "plt.title('Effect of Learning Rate on Test MAE')\n",
    "plt.show()\n",
    "plt.figure(figsize=(8, 6))\n",
    "sns.boxplot(x='Regularization', y='Test MAE', data=results_df)\n",
    "plt.title('Effect of Regularization on Test MAE')\n",
    "plt.show()"
   ]
  }
 ],
 "metadata": {
  "kernelspec": {
   "display_name": "Python 3",
   "language": "python",
   "name": "python3"
  },
  "language_info": {
   "codemirror_mode": {
    "name": "ipython",
    "version": 3
   },
   "file_extension": ".py",
   "mimetype": "text/x-python",
   "name": "python",
   "nbconvert_exporter": "python",
   "pygments_lexer": "ipython3",
   "version": "3.11.6"
  }
 },
 "nbformat": 4,
 "nbformat_minor": 2
}
